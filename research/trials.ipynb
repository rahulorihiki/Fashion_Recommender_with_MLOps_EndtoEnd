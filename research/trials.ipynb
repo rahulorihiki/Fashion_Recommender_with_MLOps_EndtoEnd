{
 "cells": [
  {
   "cell_type": "markdown",
   "metadata": {},
   "source": [
    "# Download data from gdrive"
   ]
  },
  {
   "cell_type": "code",
   "execution_count": 1,
   "metadata": {},
   "outputs": [],
   "source": [
    "# Download data from gdrive\n",
    "import gdown"
   ]
  },
  {
   "cell_type": "code",
   "execution_count": 2,
   "metadata": {},
   "outputs": [],
   "source": [
    "url = \"https://drive.google.com/file/d/1NgJekF3f6fKg6Ve_l0qtm0FaDPBzHgkn/view?usp=sharing\""
   ]
  },
  {
   "cell_type": "code",
   "execution_count": 3,
   "metadata": {},
   "outputs": [],
   "source": [
    "file_id = url.split('/')[-2]"
   ]
  },
  {
   "cell_type": "code",
   "execution_count": 4,
   "metadata": {},
   "outputs": [
    {
     "name": "stderr",
     "output_type": "stream",
     "text": [
      "Downloading...\n",
      "From (original): https://drive.google.com/uc?/export=download&id=1NgJekF3f6fKg6Ve_l0qtm0FaDPBzHgkn\n",
      "From (redirected): https://drive.google.com/uc?%2Fexport=download&id=1NgJekF3f6fKg6Ve_l0qtm0FaDPBzHgkn&confirm=t&uuid=d3d20e50-68fd-4cde-9d87-52ef691f8b0e\n",
      "To: c:\\Users\\gokul\\OneDrive\\Desktop\\Projects\\Fashion_Recommender_with_MLOps_EndtoEnd\\research\\FashionData.zip\n",
      "100%|██████████| 293M/293M [00:10<00:00, 26.7MB/s] \n"
     ]
    },
    {
     "data": {
      "text/plain": [
       "'FashionData.zip'"
      ]
     },
     "execution_count": 4,
     "metadata": {},
     "output_type": "execute_result"
    }
   ],
   "source": [
    "prefix = \"https://drive.google.com/uc?/export=download&id=\"\n",
    "gdown.download(prefix + file_id, \"FashionData.zip\")"
   ]
  },
  {
   "cell_type": "code",
   "execution_count": 2,
   "metadata": {},
   "outputs": [],
   "source": [
    "url = \"https://drive.google.com/file/d/1s4TYAy4NYjNvIp0RCdJKNLsuqPFqpFgb/view?usp=sharing\""
   ]
  },
  {
   "cell_type": "code",
   "execution_count": 3,
   "metadata": {},
   "outputs": [
    {
     "name": "stderr",
     "output_type": "stream",
     "text": [
      "Downloading...\n",
      "From (original): https://drive.google.com/uc?/export=download&id=1s4TYAy4NYjNvIp0RCdJKNLsuqPFqpFgb\n",
      "From (redirected): https://drive.google.com/uc?%2Fexport=download&id=1s4TYAy4NYjNvIp0RCdJKNLsuqPFqpFgb&confirm=t&uuid=950392d9-3141-409b-9f52-739e60bff123\n",
      "To: c:\\Users\\gokul\\OneDrive\\Desktop\\Fashion_Recommender_with_MLOps_EndtoEnd\\research\\xyz.zip\n",
      "100%|██████████| 132M/132M [00:04<00:00, 26.9MB/s] \n"
     ]
    },
    {
     "data": {
      "text/plain": [
       "'xyz.zip'"
      ]
     },
     "execution_count": 3,
     "metadata": {},
     "output_type": "execute_result"
    }
   ],
   "source": [
    "prefix = \"https://drive.google.com/uc?/export=download&id=1s4TYAy4NYjNvIp0RCdJKNLsuqPFqpFgb\"\n",
    "gdown.download(prefix, \"styles.zip\")"
   ]
  },
  {
   "cell_type": "code",
   "execution_count": 4,
   "metadata": {},
   "outputs": [
    {
     "name": "stdout",
     "output_type": "stream",
     "text": [
      "xyz.zip has been unzipped successfully.\n"
     ]
    }
   ],
   "source": [
    "import zipfile\n",
    "import os\n",
    "\n",
    "# Path to the zip file\n",
    "zip_file_path = 'xyz.zip'\n",
    "\n",
    "# Ensure the zip file exists\n",
    "if os.path.exists(zip_file_path):\n",
    "    # Open the zip file in read mode\n",
    "    with zipfile.ZipFile(zip_file_path, 'r') as zip_ref:\n",
    "        # Extract all the contents into the same directory as the zip file\n",
    "        zip_ref.extractall(os.path.splitext(zip_file_path)[0])\n",
    "    print(f\"{zip_file_path} has been unzipped successfully.\")\n",
    "else:\n",
    "    print(f\"The file {zip_file_path} does not exist.\")"
   ]
  },
  {
   "cell_type": "code",
   "execution_count": null,
   "metadata": {},
   "outputs": [],
   "source": []
  }
 ],
 "metadata": {
  "kernelspec": {
   "display_name": "fashion",
   "language": "python",
   "name": "python3"
  },
  "language_info": {
   "codemirror_mode": {
    "name": "ipython",
    "version": 3
   },
   "file_extension": ".py",
   "mimetype": "text/x-python",
   "name": "python",
   "nbconvert_exporter": "python",
   "pygments_lexer": "ipython3",
   "version": "3.9.12"
  }
 },
 "nbformat": 4,
 "nbformat_minor": 2
}
